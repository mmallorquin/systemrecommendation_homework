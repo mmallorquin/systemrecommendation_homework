{
  "nbformat": 4,
  "nbformat_minor": 0,
  "metadata": {
    "colab": {
      "name": "Exercise 2  - Content_Based_System_recommendation.ipynb",
      "provenance": [],
      "collapsed_sections": [],
      "mount_file_id": "1MWGGViB6N_NObfrZ8j3Nx-RUdQBhgyil",
      "authorship_tag": "ABX9TyPQgqhHLxKUy7ZFSIN3Pxgr",
      "include_colab_link": true
    },
    "kernelspec": {
      "name": "python3",
      "display_name": "Python 3"
    }
  },
  "cells": [
    {
      "cell_type": "markdown",
      "metadata": {
        "id": "view-in-github",
        "colab_type": "text"
      },
      "source": [
        "<a href=\"https://colab.research.google.com/github/mmallorquin/systemrecommendation_homework/blob/master/Exercise_2_Content_Based_System_recommendation.ipynb\" target=\"_parent\"><img src=\"https://colab.research.google.com/assets/colab-badge.svg\" alt=\"Open In Colab\"/></a>"
      ]
    },
    {
      "cell_type": "markdown",
      "metadata": {
        "id": "Un5o3ohXJ6bD",
        "colab_type": "text"
      },
      "source": [
        ""
      ]
    },
    {
      "cell_type": "code",
      "metadata": {
        "id": "S4LxSgvdLibV",
        "colab_type": "code",
        "colab": {}
      },
      "source": [
        "import pandas as pd\n",
        "import numpy as np\n",
        "\n",
        "df_user = pd.read_csv('/content/recsys_data_WA 1 Rating Matrix.csv', index_col=0)"
      ],
      "execution_count": null,
      "outputs": []
    }
  ]
}